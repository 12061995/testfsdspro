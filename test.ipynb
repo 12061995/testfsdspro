{
 "cells": [
  {
   "cell_type": "code",
   "execution_count": 2,
   "id": "0c53ad5c-7e11-421f-a492-4fc6f8be856a",
   "metadata": {},
   "outputs": [
    {
     "data": {
      "text/plain": [
       "82"
      ]
     },
     "execution_count": 2,
     "metadata": {},
     "output_type": "execute_result"
    }
   ],
   "source": [
    "1+1\n",
    "\n",
    "45+37"
   ]
  },
  {
   "cell_type": "code",
   "execution_count": null,
   "id": "070f4bd8-d0f4-4178-9f84-fe69ea2935b5",
   "metadata": {},
   "outputs": [],
   "source": [
    "system print"
   ]
  }
 ],
 "metadata": {
  "kernelspec": {
   "display_name": "Python 3 (ipykernel)",
   "language": "python",
   "name": "python3"
  },
  "language_info": {
   "codemirror_mode": {
    "name": "ipython",
    "version": 3
   },
   "file_extension": ".py",
   "mimetype": "text/x-python",
   "name": "python",
   "nbconvert_exporter": "python",
   "pygments_lexer": "ipython3",
   "version": "3.10.8"
  }
 },
 "nbformat": 4,
 "nbformat_minor": 5
}
